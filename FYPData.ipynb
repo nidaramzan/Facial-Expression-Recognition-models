{
  "nbformat": 4,
  "nbformat_minor": 0,
  "metadata": {
    "accelerator": "GPU",
    "colab": {
      "name": "FYPData.ipynb",
      "provenance": [],
      "collapsed_sections": []
    },
    "kernelspec": {
      "display_name": "Python 3",
      "language": "python",
      "name": "python3"
    },
    "language_info": {
      "codemirror_mode": {
        "name": "ipython",
        "version": 3
      },
      "file_extension": ".py",
      "mimetype": "text/x-python",
      "name": "python",
      "nbconvert_exporter": "python",
      "pygments_lexer": "ipython3",
      "version": "3.7.9"
    }
  },
  "cells": [
    {
      "cell_type": "code",
      "metadata": {
        "colab": {
          "base_uri": "https://localhost:8080/"
        },
        "id": "Y1hj-QaClUgJ",
        "outputId": "6cf7476f-ce71-482f-f842-1bc507c4a34f"
      },
      "source": [
        "from google.colab import drive\n",
        "drive.mount('/content/drive')"
      ],
      "execution_count": 23,
      "outputs": [
        {
          "output_type": "stream",
          "text": [
            "Drive already mounted at /content/drive; to attempt to forcibly remount, call drive.mount(\"/content/drive\", force_remount=True).\n"
          ],
          "name": "stdout"
        }
      ]
    },
    {
      "cell_type": "code",
      "metadata": {
        "colab": {
          "base_uri": "https://localhost:8080/"
        },
        "id": "UVk8wqv6leg5",
        "outputId": "90398a00-ea19-472f-e160-c8dd7a888528"
      },
      "source": [
        "from zipfile import ZipFile\n",
        "file_name = \"/content/drive/MyDrive/FYPDATA.zip\"\n",
        "with ZipFile(file_name,'r') as zip:\n",
        "  zip.extractall()\n",
        "  print('finish') "
      ],
      "execution_count": 24,
      "outputs": [
        {
          "output_type": "stream",
          "text": [
            "finish\n"
          ],
          "name": "stdout"
        }
      ]
    },
    {
      "cell_type": "code",
      "metadata": {
        "id": "KnU99-N6liFH"
      },
      "source": [
        "import keras\n",
        "from keras.preprocessing.image import ImageDataGenerator\n",
        "from keras.models import Sequential\n",
        "from keras.layers import Dense,Dropout,Activation,Flatten,BatchNormalization\n",
        "from keras.layers import Conv2D,MaxPooling2D\n",
        "import os "
      ],
      "execution_count": 25,
      "outputs": []
    },
    {
      "cell_type": "code",
      "metadata": {
        "id": "5y8KvLoMlmi9"
      },
      "source": [
        "num_classes = 6\n",
        "img_rows,img_cols = 48,48\n",
        "batch_size =32"
      ],
      "execution_count": 26,
      "outputs": []
    },
    {
      "cell_type": "code",
      "metadata": {
        "id": "1kaHahS0lqOI"
      },
      "source": [
        "train_data_dir = '/content/FYPDATA/train'\n",
        "validation_data_dir = '/content/FYPDATA/validation'"
      ],
      "execution_count": 27,
      "outputs": []
    },
    {
      "cell_type": "code",
      "metadata": {
        "id": "pqw3Xy3BlsTn"
      },
      "source": [
        "train_datagen = ImageDataGenerator(\n",
        "\t\t\t\t\trescale=1./255,\n",
        "\t\t\t\t\trotation_range=30,\n",
        "\t\t\t\t\tshear_range=0.3,\n",
        "\t\t\t\t\tzoom_range=0.3,\n",
        "\t\t\t\t\twidth_shift_range=0.4,\n",
        "\t\t\t\t\theight_shift_range=0.4,\n",
        "\t\t\t\t\thorizontal_flip=True,\n",
        "\t\t\t\t\tfill_mode='nearest')\n",
        "\n",
        "validation_datagen = ImageDataGenerator(rescale=1./255)"
      ],
      "execution_count": 28,
      "outputs": []
    },
    {
      "cell_type": "code",
      "metadata": {
        "colab": {
          "base_uri": "https://localhost:8080/"
        },
        "id": "mKcTv_jtlsvt",
        "outputId": "877e6f2d-973c-478e-82fe-8909fc721c29"
      },
      "source": [
        "train_generator = train_datagen.flow_from_directory(\n",
        "\t\t\t\t\ttrain_data_dir,\n",
        "\t\t\t\t\tcolor_mode='grayscale',\n",
        "\t\t\t\t\ttarget_size=(img_rows,img_cols),\n",
        "\t\t\t\t\tbatch_size=batch_size,\n",
        "\t\t\t\t\tclass_mode='categorical',\n",
        "\t\t\t\t\tshuffle=True)\n",
        "\n",
        "validation_generator = validation_datagen.flow_from_directory(\n",
        "\t\t\t\t\t\t\tvalidation_data_dir,\n",
        "\t\t\t\t\t\t\tcolor_mode='grayscale',\n",
        "\t\t\t\t\t\t\ttarget_size=(img_rows,img_cols),\n",
        "\t\t\t\t\t\t\tbatch_size=batch_size,\n",
        "\t\t\t\t\t\t\tclass_mode='categorical',\n",
        "\t\t\t\t\t\t\tshuffle=True)"
      ],
      "execution_count": 29,
      "outputs": [
        {
          "output_type": "stream",
          "text": [
            "Found 26017 images belonging to 6 classes.\n",
            "Found 6072 images belonging to 6 classes.\n"
          ],
          "name": "stdout"
        }
      ]
    },
    {
      "cell_type": "code",
      "metadata": {
        "id": "HhzdzeIIltCc"
      },
      "source": [
        "model = Sequential()"
      ],
      "execution_count": 30,
      "outputs": []
    },
    {
      "cell_type": "code",
      "metadata": {
        "id": "yuBVHb7Qltav"
      },
      "source": [
        "# Block-1\n",
        "\n",
        "model.add(Conv2D(32,(3,3),padding='same',kernel_initializer='he_normal',strides=(1,1),input_shape=(img_rows,img_cols,1)))\n",
        "model.add(Activation('elu'))\n",
        "model.add(BatchNormalization())\n",
        "model.add(Conv2D(32,(3,3),padding='same',kernel_initializer='he_normal'))\n",
        "model.add(Activation('elu'))\n",
        "model.add(BatchNormalization())\n",
        "model.add(MaxPooling2D(pool_size=(2,2)))\n",
        "model.add(Dropout(0.2))\n",
        "\n",
        "# Block-2 \n",
        "\n",
        "model.add(Conv2D(64,(3,3),padding='same',kernel_initializer='he_normal'))\n",
        "model.add(Activation('elu'))\n",
        "model.add(BatchNormalization())\n",
        "model.add(Conv2D(64,(3,3),padding='same',kernel_initializer='he_normal'))\n",
        "model.add(Activation('elu'))\n",
        "model.add(BatchNormalization())\n",
        "model.add(MaxPooling2D(pool_size=(2,2)))\n",
        "model.add(Dropout(0.2))\n",
        "\n",
        "# Block-3\n",
        "\n",
        "model.add(Conv2D(128,(3,3),padding='same',kernel_initializer='he_normal'))\n",
        "model.add(Activation('elu'))\n",
        "model.add(BatchNormalization())\n",
        "model.add(Conv2D(128,(3,3),padding='same',kernel_initializer='he_normal'))\n",
        "model.add(Activation('elu'))\n",
        "model.add(BatchNormalization())\n",
        "model.add(MaxPooling2D(pool_size=(2,2)))\n",
        "model.add(Dropout(0.2))\n",
        "\n",
        "# Block-4 \n",
        "\n",
        "model.add(Conv2D(256,(3,3),padding='same',kernel_initializer='he_normal'))\n",
        "model.add(Activation('elu'))\n",
        "model.add(BatchNormalization())\n",
        "model.add(Conv2D(256,(3,3),padding='same',kernel_initializer='he_normal'))\n",
        "model.add(Activation('elu'))\n",
        "model.add(BatchNormalization())\n",
        "model.add(MaxPooling2D(pool_size=(2,2)))\n",
        "model.add(Dropout(0.5))\n",
        "\n",
        "\n",
        "model.add(Conv2D(512,(3,3),padding='same',kernel_initializer='he_normal'))\n",
        "model.add(Activation('elu'))\n",
        "model.add(BatchNormalization())\n",
        "model.add(Conv2D(512,(3,3),padding='same',kernel_initializer='he_normal'))\n",
        "model.add(Activation('elu'))\n",
        "model.add(BatchNormalization())\n",
        "model.add(MaxPooling2D(pool_size=(2,2)))\n",
        "model.add(Dropout(0.2))\n",
        "# Block-5\n",
        "\n",
        "model.add(Flatten())\n",
        "model.add(Dense(64,kernel_initializer='he_normal'))\n",
        "model.add(Activation('elu'))\n",
        "model.add(BatchNormalization())\n",
        "model.add(Dropout(0.5))\n",
        "\n",
        "# Block-6\n",
        "\n",
        "model.add(Dense(64,kernel_initializer='he_normal'))\n",
        "model.add(Activation('elu'))\n",
        "model.add(BatchNormalization())\n",
        "model.add(Dropout(0.5))\n",
        "\n",
        "# Block-7\n",
        "\n",
        "model.add(Dense(num_classes,kernel_initializer='he_normal'))\n",
        "model.add(Activation('softmax'))"
      ],
      "execution_count": 31,
      "outputs": []
    },
    {
      "cell_type": "code",
      "metadata": {
        "colab": {
          "base_uri": "https://localhost:8080/"
        },
        "id": "_DXoLoxKlt5Y",
        "outputId": "eae77787-5c51-4ee0-d4a3-4e0f08148d78"
      },
      "source": [
        "print(model.summary())"
      ],
      "execution_count": 32,
      "outputs": [
        {
          "output_type": "stream",
          "text": [
            "Model: \"sequential_1\"\n",
            "_________________________________________________________________\n",
            "Layer (type)                 Output Shape              Param #   \n",
            "=================================================================\n",
            "conv2d_10 (Conv2D)           (None, 48, 48, 32)        320       \n",
            "_________________________________________________________________\n",
            "activation_13 (Activation)   (None, 48, 48, 32)        0         \n",
            "_________________________________________________________________\n",
            "batch_normalization_12 (Batc (None, 48, 48, 32)        128       \n",
            "_________________________________________________________________\n",
            "conv2d_11 (Conv2D)           (None, 48, 48, 32)        9248      \n",
            "_________________________________________________________________\n",
            "activation_14 (Activation)   (None, 48, 48, 32)        0         \n",
            "_________________________________________________________________\n",
            "batch_normalization_13 (Batc (None, 48, 48, 32)        128       \n",
            "_________________________________________________________________\n",
            "max_pooling2d_5 (MaxPooling2 (None, 24, 24, 32)        0         \n",
            "_________________________________________________________________\n",
            "dropout_7 (Dropout)          (None, 24, 24, 32)        0         \n",
            "_________________________________________________________________\n",
            "conv2d_12 (Conv2D)           (None, 24, 24, 64)        18496     \n",
            "_________________________________________________________________\n",
            "activation_15 (Activation)   (None, 24, 24, 64)        0         \n",
            "_________________________________________________________________\n",
            "batch_normalization_14 (Batc (None, 24, 24, 64)        256       \n",
            "_________________________________________________________________\n",
            "conv2d_13 (Conv2D)           (None, 24, 24, 64)        36928     \n",
            "_________________________________________________________________\n",
            "activation_16 (Activation)   (None, 24, 24, 64)        0         \n",
            "_________________________________________________________________\n",
            "batch_normalization_15 (Batc (None, 24, 24, 64)        256       \n",
            "_________________________________________________________________\n",
            "max_pooling2d_6 (MaxPooling2 (None, 12, 12, 64)        0         \n",
            "_________________________________________________________________\n",
            "dropout_8 (Dropout)          (None, 12, 12, 64)        0         \n",
            "_________________________________________________________________\n",
            "conv2d_14 (Conv2D)           (None, 12, 12, 128)       73856     \n",
            "_________________________________________________________________\n",
            "activation_17 (Activation)   (None, 12, 12, 128)       0         \n",
            "_________________________________________________________________\n",
            "batch_normalization_16 (Batc (None, 12, 12, 128)       512       \n",
            "_________________________________________________________________\n",
            "conv2d_15 (Conv2D)           (None, 12, 12, 128)       147584    \n",
            "_________________________________________________________________\n",
            "activation_18 (Activation)   (None, 12, 12, 128)       0         \n",
            "_________________________________________________________________\n",
            "batch_normalization_17 (Batc (None, 12, 12, 128)       512       \n",
            "_________________________________________________________________\n",
            "max_pooling2d_7 (MaxPooling2 (None, 6, 6, 128)         0         \n",
            "_________________________________________________________________\n",
            "dropout_9 (Dropout)          (None, 6, 6, 128)         0         \n",
            "_________________________________________________________________\n",
            "conv2d_16 (Conv2D)           (None, 6, 6, 256)         295168    \n",
            "_________________________________________________________________\n",
            "activation_19 (Activation)   (None, 6, 6, 256)         0         \n",
            "_________________________________________________________________\n",
            "batch_normalization_18 (Batc (None, 6, 6, 256)         1024      \n",
            "_________________________________________________________________\n",
            "conv2d_17 (Conv2D)           (None, 6, 6, 256)         590080    \n",
            "_________________________________________________________________\n",
            "activation_20 (Activation)   (None, 6, 6, 256)         0         \n",
            "_________________________________________________________________\n",
            "batch_normalization_19 (Batc (None, 6, 6, 256)         1024      \n",
            "_________________________________________________________________\n",
            "max_pooling2d_8 (MaxPooling2 (None, 3, 3, 256)         0         \n",
            "_________________________________________________________________\n",
            "dropout_10 (Dropout)         (None, 3, 3, 256)         0         \n",
            "_________________________________________________________________\n",
            "conv2d_18 (Conv2D)           (None, 3, 3, 512)         1180160   \n",
            "_________________________________________________________________\n",
            "activation_21 (Activation)   (None, 3, 3, 512)         0         \n",
            "_________________________________________________________________\n",
            "batch_normalization_20 (Batc (None, 3, 3, 512)         2048      \n",
            "_________________________________________________________________\n",
            "conv2d_19 (Conv2D)           (None, 3, 3, 512)         2359808   \n",
            "_________________________________________________________________\n",
            "activation_22 (Activation)   (None, 3, 3, 512)         0         \n",
            "_________________________________________________________________\n",
            "batch_normalization_21 (Batc (None, 3, 3, 512)         2048      \n",
            "_________________________________________________________________\n",
            "max_pooling2d_9 (MaxPooling2 (None, 1, 1, 512)         0         \n",
            "_________________________________________________________________\n",
            "dropout_11 (Dropout)         (None, 1, 1, 512)         0         \n",
            "_________________________________________________________________\n",
            "flatten_1 (Flatten)          (None, 512)               0         \n",
            "_________________________________________________________________\n",
            "dense_3 (Dense)              (None, 64)                32832     \n",
            "_________________________________________________________________\n",
            "activation_23 (Activation)   (None, 64)                0         \n",
            "_________________________________________________________________\n",
            "batch_normalization_22 (Batc (None, 64)                256       \n",
            "_________________________________________________________________\n",
            "dropout_12 (Dropout)         (None, 64)                0         \n",
            "_________________________________________________________________\n",
            "dense_4 (Dense)              (None, 64)                4160      \n",
            "_________________________________________________________________\n",
            "activation_24 (Activation)   (None, 64)                0         \n",
            "_________________________________________________________________\n",
            "batch_normalization_23 (Batc (None, 64)                256       \n",
            "_________________________________________________________________\n",
            "dropout_13 (Dropout)         (None, 64)                0         \n",
            "_________________________________________________________________\n",
            "dense_5 (Dense)              (None, 6)                 390       \n",
            "_________________________________________________________________\n",
            "activation_25 (Activation)   (None, 6)                 0         \n",
            "=================================================================\n",
            "Total params: 4,757,478\n",
            "Trainable params: 4,753,254\n",
            "Non-trainable params: 4,224\n",
            "_________________________________________________________________\n",
            "None\n"
          ],
          "name": "stdout"
        }
      ]
    },
    {
      "cell_type": "code",
      "metadata": {
        "id": "TuA_zW2dluTS"
      },
      "source": [
        "from keras.optimizers import RMSprop,SGD,Adam\n",
        "from keras.callbacks import ModelCheckpoint, EarlyStopping, ReduceLROnPlateau"
      ],
      "execution_count": 33,
      "outputs": []
    },
    {
      "cell_type": "code",
      "metadata": {
        "id": "lOcwiLo_lupn"
      },
      "source": [
        "checkpoint = ModelCheckpoint('FYPDATA.h5',\n",
        "                             monitor='val_loss',\n",
        "                             mode='min',\n",
        "                             save_best_only=True,\n",
        "                             verbose=1)\n",
        "\n",
        "earlystop = EarlyStopping(monitor='val_loss',\n",
        "                          min_delta=0,\n",
        "                          patience=50,\n",
        "                          verbose=1,\n",
        "                          restore_best_weights=True\n",
        "                          )\n",
        "\n",
        "reduce_lr = ReduceLROnPlateau(monitor='val_loss',\n",
        "                              factor=0.2,\n",
        "                              patience=50,\n",
        "                              verbose=1,\n",
        "                              min_delta=0.0001)"
      ],
      "execution_count": 34,
      "outputs": []
    },
    {
      "cell_type": "code",
      "metadata": {
        "id": "o6wIdSaslu_Q"
      },
      "source": [
        "callbacks = [earlystop,checkpoint,reduce_lr]"
      ],
      "execution_count": 35,
      "outputs": []
    },
    {
      "cell_type": "code",
      "metadata": {
        "id": "Ra95yAsrlvck",
        "colab": {
          "base_uri": "https://localhost:8080/"
        },
        "outputId": "581f543a-4b0a-49dc-8e23-122d0fd89dd6"
      },
      "source": [
        "model.compile(loss='categorical_crossentropy',\n",
        "              optimizer = Adam(lr=0.001),\n",
        "              metrics=['accuracy'])"
      ],
      "execution_count": 36,
      "outputs": [
        {
          "output_type": "stream",
          "text": [
            "/usr/local/lib/python3.7/dist-packages/tensorflow/python/keras/optimizer_v2/optimizer_v2.py:375: UserWarning: The `lr` argument is deprecated, use `learning_rate` instead.\n",
            "  \"The `lr` argument is deprecated, use `learning_rate` instead.\")\n"
          ],
          "name": "stderr"
        }
      ]
    },
    {
      "cell_type": "code",
      "metadata": {
        "id": "Zg14QdE6mJl0"
      },
      "source": [
        "nb_train_samples = 26017\n",
        "nb_validation_samples = 6072\n",
        "epochs=52"
      ],
      "execution_count": 37,
      "outputs": []
    },
    {
      "cell_type": "code",
      "metadata": {
        "colab": {
          "base_uri": "https://localhost:8080/"
        },
        "id": "XqZv6HCYmKGq",
        "outputId": "4b9c53b5-7eed-41fd-b891-5cc38aba96e6"
      },
      "source": [
        "history=model.fit_generator(\n",
        "                train_generator,\n",
        "                steps_per_epoch=nb_train_samples//batch_size,\n",
        "                epochs=epochs,\n",
        "                callbacks=callbacks,\n",
        "                validation_data=validation_generator,\n",
        "                validation_steps=nb_validation_samples//batch_size)"
      ],
      "execution_count": 38,
      "outputs": [
        {
          "output_type": "stream",
          "text": [
            "/usr/local/lib/python3.7/dist-packages/keras/engine/training.py:1915: UserWarning: `Model.fit_generator` is deprecated and will be removed in a future version. Please use `Model.fit`, which supports generators.\n",
            "  warnings.warn('`Model.fit_generator` is deprecated and '\n"
          ],
          "name": "stderr"
        },
        {
          "output_type": "stream",
          "text": [
            "Epoch 1/52\n",
            "813/813 [==============================] - 33s 36ms/step - loss: 2.3174 - accuracy: 0.1819 - val_loss: 1.7626 - val_accuracy: 0.2159\n",
            "\n",
            "Epoch 00001: val_loss improved from inf to 1.76260, saving model to FYPDATA.h5\n",
            "Epoch 2/52\n",
            "813/813 [==============================] - 27s 33ms/step - loss: 1.8075 - accuracy: 0.1978 - val_loss: 1.7374 - val_accuracy: 0.2302\n",
            "\n",
            "Epoch 00002: val_loss improved from 1.76260 to 1.73742, saving model to FYPDATA.h5\n",
            "Epoch 3/52\n",
            "813/813 [==============================] - 29s 35ms/step - loss: 1.7630 - accuracy: 0.2215 - val_loss: 1.7496 - val_accuracy: 0.2173\n",
            "\n",
            "Epoch 00003: val_loss did not improve from 1.73742\n",
            "Epoch 4/52\n",
            "813/813 [==============================] - 26s 32ms/step - loss: 1.7462 - accuracy: 0.2326 - val_loss: 1.7878 - val_accuracy: 0.2432\n",
            "\n",
            "Epoch 00004: val_loss did not improve from 1.73742\n",
            "Epoch 5/52\n",
            "813/813 [==============================] - 29s 36ms/step - loss: 1.6989 - accuracy: 0.2637 - val_loss: 1.6071 - val_accuracy: 0.3380\n",
            "\n",
            "Epoch 00005: val_loss improved from 1.73742 to 1.60706, saving model to FYPDATA.h5\n",
            "Epoch 6/52\n",
            "813/813 [==============================] - 26s 32ms/step - loss: 1.6258 - accuracy: 0.3176 - val_loss: 1.6193 - val_accuracy: 0.3709\n",
            "\n",
            "Epoch 00006: val_loss did not improve from 1.60706\n",
            "Epoch 7/52\n",
            "813/813 [==============================] - 28s 35ms/step - loss: 1.5438 - accuracy: 0.3624 - val_loss: 1.3459 - val_accuracy: 0.4539\n",
            "\n",
            "Epoch 00007: val_loss improved from 1.60706 to 1.34589, saving model to FYPDATA.h5\n",
            "Epoch 8/52\n",
            "813/813 [==============================] - 26s 32ms/step - loss: 1.4853 - accuracy: 0.3968 - val_loss: 1.3309 - val_accuracy: 0.4704\n",
            "\n",
            "Epoch 00008: val_loss improved from 1.34589 to 1.33094, saving model to FYPDATA.h5\n",
            "Epoch 9/52\n",
            "813/813 [==============================] - 27s 34ms/step - loss: 1.4484 - accuracy: 0.4152 - val_loss: 1.2450 - val_accuracy: 0.5076\n",
            "\n",
            "Epoch 00009: val_loss improved from 1.33094 to 1.24504, saving model to FYPDATA.h5\n",
            "Epoch 10/52\n",
            "813/813 [==============================] - 28s 34ms/step - loss: 1.3944 - accuracy: 0.4459 - val_loss: 1.1858 - val_accuracy: 0.5321\n",
            "\n",
            "Epoch 00010: val_loss improved from 1.24504 to 1.18579, saving model to FYPDATA.h5\n",
            "Epoch 11/52\n",
            "813/813 [==============================] - 26s 32ms/step - loss: 1.3852 - accuracy: 0.4501 - val_loss: 1.2179 - val_accuracy: 0.5220\n",
            "\n",
            "Epoch 00011: val_loss did not improve from 1.18579\n",
            "Epoch 12/52\n",
            "813/813 [==============================] - 29s 35ms/step - loss: 1.3562 - accuracy: 0.4658 - val_loss: 1.1446 - val_accuracy: 0.5557\n",
            "\n",
            "Epoch 00012: val_loss improved from 1.18579 to 1.14463, saving model to FYPDATA.h5\n",
            "Epoch 13/52\n",
            "813/813 [==============================] - 26s 32ms/step - loss: 1.3428 - accuracy: 0.4776 - val_loss: 1.1699 - val_accuracy: 0.5476\n",
            "\n",
            "Epoch 00013: val_loss did not improve from 1.14463\n",
            "Epoch 14/52\n",
            "813/813 [==============================] - 29s 36ms/step - loss: 1.3314 - accuracy: 0.4767 - val_loss: 1.1274 - val_accuracy: 0.5597\n",
            "\n",
            "Epoch 00014: val_loss improved from 1.14463 to 1.12741, saving model to FYPDATA.h5\n",
            "Epoch 15/52\n",
            "813/813 [==============================] - 26s 32ms/step - loss: 1.3163 - accuracy: 0.4843 - val_loss: 1.1061 - val_accuracy: 0.5784\n",
            "\n",
            "Epoch 00015: val_loss improved from 1.12741 to 1.10605, saving model to FYPDATA.h5\n",
            "Epoch 16/52\n",
            "813/813 [==============================] - 27s 33ms/step - loss: 1.3009 - accuracy: 0.5004 - val_loss: 1.1139 - val_accuracy: 0.5873\n",
            "\n",
            "Epoch 00016: val_loss did not improve from 1.10605\n",
            "Epoch 17/52\n",
            "813/813 [==============================] - 27s 33ms/step - loss: 1.2818 - accuracy: 0.5096 - val_loss: 1.1089 - val_accuracy: 0.5780\n",
            "\n",
            "Epoch 00017: val_loss did not improve from 1.10605\n",
            "Epoch 18/52\n",
            "813/813 [==============================] - 26s 31ms/step - loss: 1.2852 - accuracy: 0.5039 - val_loss: 1.0770 - val_accuracy: 0.5848\n",
            "\n",
            "Epoch 00018: val_loss improved from 1.10605 to 1.07698, saving model to FYPDATA.h5\n",
            "Epoch 19/52\n",
            "813/813 [==============================] - 28s 34ms/step - loss: 1.2564 - accuracy: 0.5175 - val_loss: 1.0529 - val_accuracy: 0.6000\n",
            "\n",
            "Epoch 00019: val_loss improved from 1.07698 to 1.05285, saving model to FYPDATA.h5\n",
            "Epoch 20/52\n",
            "813/813 [==============================] - 28s 34ms/step - loss: 1.2488 - accuracy: 0.5220 - val_loss: 1.0705 - val_accuracy: 0.5921\n",
            "\n",
            "Epoch 00020: val_loss did not improve from 1.05285\n",
            "Epoch 21/52\n",
            "813/813 [==============================] - 26s 32ms/step - loss: 1.2355 - accuracy: 0.5217 - val_loss: 1.0483 - val_accuracy: 0.5924\n",
            "\n",
            "Epoch 00021: val_loss improved from 1.05285 to 1.04829, saving model to FYPDATA.h5\n",
            "Epoch 22/52\n",
            "813/813 [==============================] - 27s 33ms/step - loss: 1.2289 - accuracy: 0.5392 - val_loss: 1.0603 - val_accuracy: 0.5860\n",
            "\n",
            "Epoch 00022: val_loss did not improve from 1.04829\n",
            "Epoch 23/52\n",
            "813/813 [==============================] - 27s 33ms/step - loss: 1.2127 - accuracy: 0.5402 - val_loss: 1.0440 - val_accuracy: 0.6000\n",
            "\n",
            "Epoch 00023: val_loss improved from 1.04829 to 1.04402, saving model to FYPDATA.h5\n",
            "Epoch 24/52\n",
            "813/813 [==============================] - 27s 33ms/step - loss: 1.2076 - accuracy: 0.5441 - val_loss: 1.0165 - val_accuracy: 0.6149\n",
            "\n",
            "Epoch 00024: val_loss improved from 1.04402 to 1.01647, saving model to FYPDATA.h5\n",
            "Epoch 25/52\n",
            "813/813 [==============================] - 27s 33ms/step - loss: 1.2085 - accuracy: 0.5430 - val_loss: 1.0214 - val_accuracy: 0.6146\n",
            "\n",
            "Epoch 00025: val_loss did not improve from 1.01647\n",
            "Epoch 26/52\n",
            "813/813 [==============================] - 26s 32ms/step - loss: 1.1949 - accuracy: 0.5513 - val_loss: 1.0063 - val_accuracy: 0.6227\n",
            "\n",
            "Epoch 00026: val_loss improved from 1.01647 to 1.00627, saving model to FYPDATA.h5\n",
            "Epoch 27/52\n",
            "813/813 [==============================] - 27s 33ms/step - loss: 1.1817 - accuracy: 0.5564 - val_loss: 0.9923 - val_accuracy: 0.6285\n",
            "\n",
            "Epoch 00027: val_loss improved from 1.00627 to 0.99231, saving model to FYPDATA.h5\n",
            "Epoch 28/52\n",
            "813/813 [==============================] - 28s 35ms/step - loss: 1.1834 - accuracy: 0.5580 - val_loss: 1.0277 - val_accuracy: 0.6045\n",
            "\n",
            "Epoch 00028: val_loss did not improve from 0.99231\n",
            "Epoch 29/52\n",
            "813/813 [==============================] - 25s 31ms/step - loss: 1.1785 - accuracy: 0.5577 - val_loss: 1.0078 - val_accuracy: 0.6123\n",
            "\n",
            "Epoch 00029: val_loss did not improve from 0.99231\n",
            "Epoch 30/52\n",
            "813/813 [==============================] - 27s 33ms/step - loss: 1.1682 - accuracy: 0.5628 - val_loss: 0.9790 - val_accuracy: 0.6379\n",
            "\n",
            "Epoch 00030: val_loss improved from 0.99231 to 0.97896, saving model to FYPDATA.h5\n",
            "Epoch 31/52\n",
            "813/813 [==============================] - 26s 31ms/step - loss: 1.1683 - accuracy: 0.5680 - val_loss: 1.0581 - val_accuracy: 0.5838\n",
            "\n",
            "Epoch 00031: val_loss did not improve from 0.97896\n",
            "Epoch 32/52\n",
            "813/813 [==============================] - 28s 34ms/step - loss: 1.1710 - accuracy: 0.5608 - val_loss: 0.9673 - val_accuracy: 0.6348\n",
            "\n",
            "Epoch 00032: val_loss improved from 0.97896 to 0.96732, saving model to FYPDATA.h5\n",
            "Epoch 33/52\n",
            "813/813 [==============================] - 26s 32ms/step - loss: 1.1624 - accuracy: 0.5699 - val_loss: 0.9962 - val_accuracy: 0.6341\n",
            "\n",
            "Epoch 00033: val_loss did not improve from 0.96732\n",
            "Epoch 34/52\n",
            "813/813 [==============================] - 26s 32ms/step - loss: 1.1582 - accuracy: 0.5693 - val_loss: 0.9427 - val_accuracy: 0.6452\n",
            "\n",
            "Epoch 00034: val_loss improved from 0.96732 to 0.94266, saving model to FYPDATA.h5\n",
            "Epoch 35/52\n",
            "813/813 [==============================] - 28s 34ms/step - loss: 1.1377 - accuracy: 0.5757 - val_loss: 0.9414 - val_accuracy: 0.6472\n",
            "\n",
            "Epoch 00035: val_loss improved from 0.94266 to 0.94137, saving model to FYPDATA.h5\n",
            "Epoch 36/52\n",
            "813/813 [==============================] - 26s 32ms/step - loss: 1.1374 - accuracy: 0.5765 - val_loss: 0.9596 - val_accuracy: 0.6389\n",
            "\n",
            "Epoch 00036: val_loss did not improve from 0.94137\n",
            "Epoch 37/52\n",
            "813/813 [==============================] - 26s 33ms/step - loss: 1.1477 - accuracy: 0.5712 - val_loss: 0.9609 - val_accuracy: 0.6443\n",
            "\n",
            "Epoch 00037: val_loss did not improve from 0.94137\n",
            "Epoch 38/52\n",
            "813/813 [==============================] - 28s 34ms/step - loss: 1.1388 - accuracy: 0.5799 - val_loss: 0.9356 - val_accuracy: 0.6486\n",
            "\n",
            "Epoch 00038: val_loss improved from 0.94137 to 0.93557, saving model to FYPDATA.h5\n",
            "Epoch 39/52\n",
            "813/813 [==============================] - 27s 33ms/step - loss: 1.1213 - accuracy: 0.5862 - val_loss: 0.9749 - val_accuracy: 0.6271\n",
            "\n",
            "Epoch 00039: val_loss did not improve from 0.93557\n",
            "Epoch 40/52\n",
            "813/813 [==============================] - 26s 32ms/step - loss: 1.1148 - accuracy: 0.5910 - val_loss: 0.9323 - val_accuracy: 0.6496\n",
            "\n",
            "Epoch 00040: val_loss improved from 0.93557 to 0.93231, saving model to FYPDATA.h5\n",
            "Epoch 41/52\n",
            "813/813 [==============================] - 26s 32ms/step - loss: 1.1232 - accuracy: 0.5803 - val_loss: 0.9584 - val_accuracy: 0.6415\n",
            "\n",
            "Epoch 00041: val_loss did not improve from 0.93231\n",
            "Epoch 42/52\n",
            "813/813 [==============================] - 28s 34ms/step - loss: 1.1193 - accuracy: 0.5852 - val_loss: 0.9314 - val_accuracy: 0.6572\n",
            "\n",
            "Epoch 00042: val_loss improved from 0.93231 to 0.93144, saving model to FYPDATA.h5\n",
            "Epoch 43/52\n",
            "813/813 [==============================] - 26s 32ms/step - loss: 1.1242 - accuracy: 0.5769 - val_loss: 0.9365 - val_accuracy: 0.6518\n",
            "\n",
            "Epoch 00043: val_loss did not improve from 0.93144\n",
            "Epoch 44/52\n",
            "813/813 [==============================] - 26s 32ms/step - loss: 1.1137 - accuracy: 0.5852 - val_loss: 0.9476 - val_accuracy: 0.6506\n",
            "\n",
            "Epoch 00044: val_loss did not improve from 0.93144\n",
            "Epoch 45/52\n",
            "813/813 [==============================] - 27s 34ms/step - loss: 1.1101 - accuracy: 0.5884 - val_loss: 0.9247 - val_accuracy: 0.6586\n",
            "\n",
            "Epoch 00045: val_loss improved from 0.93144 to 0.92471, saving model to FYPDATA.h5\n",
            "Epoch 46/52\n",
            "813/813 [==============================] - 26s 32ms/step - loss: 1.1114 - accuracy: 0.5845 - val_loss: 0.9220 - val_accuracy: 0.6587\n",
            "\n",
            "Epoch 00046: val_loss improved from 0.92471 to 0.92197, saving model to FYPDATA.h5\n",
            "Epoch 47/52\n",
            "813/813 [==============================] - 28s 34ms/step - loss: 1.1042 - accuracy: 0.5880 - val_loss: 0.9347 - val_accuracy: 0.6465\n",
            "\n",
            "Epoch 00047: val_loss did not improve from 0.92197\n",
            "Epoch 48/52\n",
            "813/813 [==============================] - 28s 34ms/step - loss: 1.1023 - accuracy: 0.5908 - val_loss: 1.0095 - val_accuracy: 0.6162\n",
            "\n",
            "Epoch 00048: val_loss did not improve from 0.92197\n",
            "Epoch 49/52\n",
            "813/813 [==============================] - 26s 32ms/step - loss: 1.1072 - accuracy: 0.5886 - val_loss: 0.9402 - val_accuracy: 0.6447\n",
            "\n",
            "Epoch 00049: val_loss did not improve from 0.92197\n",
            "Epoch 50/52\n",
            "813/813 [==============================] - 27s 33ms/step - loss: 1.1004 - accuracy: 0.5906 - val_loss: 0.9571 - val_accuracy: 0.6400\n",
            "\n",
            "Epoch 00050: val_loss did not improve from 0.92197\n",
            "Epoch 51/52\n",
            "813/813 [==============================] - 26s 31ms/step - loss: 1.0955 - accuracy: 0.5959 - val_loss: 0.9293 - val_accuracy: 0.6523\n",
            "\n",
            "Epoch 00051: val_loss did not improve from 0.92197\n",
            "Epoch 52/52\n",
            "813/813 [==============================] - 28s 34ms/step - loss: 1.0877 - accuracy: 0.6019 - val_loss: 0.9095 - val_accuracy: 0.6660\n",
            "\n",
            "Epoch 00052: val_loss improved from 0.92197 to 0.90953, saving model to FYPDATA.h5\n"
          ],
          "name": "stdout"
        }
      ]
    },
    {
      "cell_type": "code",
      "metadata": {
        "id": "-tg54QWAmKhB"
      },
      "source": [
        "from sklearn.metrics import classification_report\n",
        "from sklearn.metrics import confusion_matrix\n",
        "import numpy as np\n",
        "import pandas as pd\n",
        "import itertools\n",
        "import matplotlib.pyplot as plt\n",
        "import seaborn as sns\n",
        "import palettable.colorbrewer as cb\n",
        "sns.set_palette('colorblind')\n",
        "from keras import applications \n",
        "from keras.utils.np_utils import to_categorical \n",
        "import matplotlib.pyplot as plt \n",
        "import matplotlib.image as mpimg\n",
        "%matplotlib inline\n",
        "import math \n",
        "import datetime\n",
        "import time"
      ],
      "execution_count": null,
      "outputs": []
    },
    {
      "cell_type": "code",
      "metadata": {
        "colab": {
          "base_uri": "https://localhost:8080/",
          "height": 573
        },
        "id": "ocEx5qRhmK4_",
        "outputId": "5249de6b-ce5e-4f3a-b9f5-62b97a816335"
      },
      "source": [
        "\n",
        "#Graphing our training and validation\n",
        "accuracy = history.history['accuracy']\n",
        "val_acc = history.history['val_accuracy']\n",
        "loss = history.history['loss']\n",
        "val_loss = history.history['val_loss']\n",
        "epochs = range(len(accuracy))\n",
        "plt.plot(epochs, accuracy, 'r', label='Train_acc')\n",
        "plt.plot(epochs, val_acc, 'b', label='Val_acc')\n",
        "plt.title('Training and validation accuracy')\n",
        "plt.ylabel('accuracy') \n",
        "plt.xlabel('epoch')\n",
        "plt.legend()\n",
        "plt.figure()\n",
        "plt.plot(epochs, loss, 'r', label='Train_loss')\n",
        "plt.plot(epochs, val_loss, 'b', label='Val_loss')\n",
        "plt.title('Training and validation loss')\n",
        "plt.ylabel('loss') \n",
        "plt.xlabel('epoch')\n",
        "plt.legend()\n",
        "plt.show()"
      ],
      "execution_count": null,
      "outputs": [
        {
          "output_type": "display_data",
          "data": {
            "image/png": "[encoded data removed]",
            "text/plain": [
              "<Figure size 432x288 with 1 Axes>"
            ]
          },
          "metadata": {
            "tags": [],
            "needs_background": "light"
          }
        },
        {
          "output_type": "display_data",
          "data": {
            "image/png": "[encoded data removed]",
            "text/plain": [
              "<Figure size 432x288 with 1 Axes>"
            ]
          },
          "metadata": {
            "tags": [],
            "needs_background": "light"
          }
        }
      ]
    },
    {
      "cell_type": "code",
      "metadata": {
        "colab": {
          "base_uri": "https://localhost:8080/"
        },
        "id": "hmF_d5DuhrFD",
        "outputId": "0bd3bbb2-0222-41b3-d91f-73b651ab274f"
      },
      "source": [
        "prediction=np.round(model.predict(validation_generator),0)\n",
        "print('data', prediction)"
      ],
      "execution_count": null,
      "outputs": [
        {
          "output_type": "stream",
          "text": [
            "data [[0. 0. 0. ... 0. 0. 0.]\n",
            " [1. 0. 0. ... 0. 0. 0.]\n",
            " [0. 0. 0. ... 0. 0. 0.]\n",
            " ...\n",
            " [0. 0. 0. ... 1. 0. 0.]\n",
            " [1. 0. 0. ... 0. 0. 0.]\n",
            " [0. 0. 0. ... 0. 0. 0.]]\n"
          ],
          "name": "stdout"
        }
      ]
    },
    {
      "cell_type": "code",
      "metadata": {
        "id": "i1JQxW2cmLO6"
      },
      "source": [
        "validation_labels = validation_generator.classes \n",
        " \n",
        "# convert the training labels to categorical vectors \n",
        "validation_labels = to_categorical(validation_labels, num_classes=num_classes)"
      ],
      "execution_count": null,
      "outputs": []
    },
    {
      "cell_type": "code",
      "metadata": {
        "id": "Cedjoh6DmLlc"
      },
      "source": [
        "categorical_validation_labels = pd.DataFrame(validation_labels).idxmax(axis=1)\n",
        "categorical_preds = pd.DataFrame(prediction).idxmax(axis=1)\n",
        "cm= confusion_matrix(categorical_validation_labels, categorical_preds)\n",
        "\n",
        "def plot_confusion_matrix(cm, classes,\n",
        "   normalize=False,\n",
        "   title='Confusion matrix',\n",
        "   cmap=plt.cm.Blues):\n",
        " \n",
        "   if normalize:\n",
        "     cm = cm.astype('float') / cm.sum(axis=1)[:, np.newaxis]\n",
        "     print(\"Normalized confusion matrix\")\n",
        "   else:\n",
        "     print('Confusion matrix, without normalization')\n",
        "\n",
        " \n",
        "   plt.imshow(cm, interpolation='nearest', cmap=cmap)\n",
        "   plt.title(title)\n",
        "   plt.colorbar()\n",
        "   tick_marks = np.arange(len(classes))\n",
        "   plt.xticks(tick_marks, classes, rotation=45)\n",
        "   plt.yticks(tick_marks, classes)\n",
        " \n",
        "   fmt = '.2f' if normalize else 'd'\n",
        "   thresh = cm.max() / 2.\n",
        "   for i, j in itertools.product(range(cm.shape[0]), range(cm.shape[1])):\n",
        "      plt.text(j, i, format(cm[i, j], fmt), horizontalalignment=\"center\", color=\"white\" if cm[i, j] > thresh else \"black\")\n",
        " \n",
        "   plt.tight_layout()\n",
        "   plt.ylabel('True label')\n",
        "   plt.xlabel('Predicted label') "
      ],
      "execution_count": null,
      "outputs": []
    },
    {
      "cell_type": "code",
      "metadata": {
        "colab": {
          "base_uri": "https://localhost:8080/",
          "height": 329
        },
        "id": "OgVDHy3kmL1y",
        "outputId": "5a7b3c54-10a6-4b92-f5c4-c7a5d8111e07"
      },
      "source": [
        "plot_confusion_matrix(cm, ['angry', 'disgust', 'fear', 'happy', 'neutral', 'sad', 'surprise'], normalize=True)"
      ],
      "execution_count": null,
      "outputs": [
        {
          "output_type": "stream",
          "text": [
            "Normalized confusion matrix\n"
          ],
          "name": "stdout"
        },
        {
          "output_type": "display_data",
          "data": {
            "image/png": "[encoded data removed]",
            "text/plain": [
              "<Figure size 432x288 with 2 Axes>"
            ]
          },
          "metadata": {
            "tags": [],
            "needs_background": "light"
          }
        }
      ]
    },
    {
      "cell_type": "code",
      "metadata": {
        "id": "1hoO2Bq2mMK4"
      },
      "source": [
        ""
      ],
      "execution_count": null,
      "outputs": []
    }
  ]
}